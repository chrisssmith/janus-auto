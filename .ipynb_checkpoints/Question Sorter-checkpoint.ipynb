{
 "cells": [
  {
   "cell_type": "markdown",
   "metadata": {},
   "source": [
    "## Imports"
   ]
  },
  {
   "cell_type": "code",
   "execution_count": 4,
   "metadata": {
    "collapsed": false
   },
   "outputs": [],
   "source": [
    "import nltk.data\n",
    "from fuzzywuzzy import fuzz"
   ]
  },
  {
   "cell_type": "code",
   "execution_count": 5,
   "metadata": {
    "collapsed": false
   },
   "outputs": [
    {
     "data": {
      "text/html": [
       "<style>.container { width:100% !important; }</style>"
      ],
      "text/plain": [
       "<IPython.core.display.HTML object>"
      ]
     },
     "metadata": {},
     "output_type": "display_data"
    }
   ],
   "source": [
    "from IPython.core.display import display, HTML\n",
    "display(HTML(\"<style>.container { width:100% !important; }</style>\"))"
   ]
  },
  {
   "cell_type": "markdown",
   "metadata": {},
   "source": [
    "## Questions"
   ]
  },
  {
   "cell_type": "code",
   "execution_count": 6,
   "metadata": {
    "collapsed": false
   },
   "outputs": [],
   "source": [
    "question_dict = {\n",
    "0 : 'How strongly do you agree or disagree with our proposed environmental objective for the next regime?',\n",
    "1 : 'Any additional comments on our proposed environmental objective for the next regime?',\n",
    "2 : 'How strongly do you agree or disagree with our proposal for the length of the next regime?',\n",
    "3 : 'Any additional comments on our proposal for the length of the regime?',\n",
    "4 : 'How strongly do you agree or disagree with our proposal to introduce a new QC/0.125 category for aircraft between 81 and 83.9 EPNdB?',\n",
    "5 : 'How strongly do you agree or disagree with our proposal for all aircraft quieter than this to remain QC/0 but count towards the airports movement limit?',\n",
    "6 : 'Any additional comments on our proposals for the Quota Count System?',\n",
    "7 : 'How strongly do you agree or disagree with the proposal for movement limits to remain unchanged at Heathrow?',\n",
    "8 : 'Any additional comments on our proposal for Heathrow movement limits?',\n",
    "9 : 'How strongly do you agree or disagree with the proposal for movement limits to remain unchanged at Gatwick?',\n",
    "10 : 'Any additional comments on our proposal for Gatwick’s movement limit?',\n",
    "11 : 'How strongly do you agree or disagree with the proposal to raise Stansted’s movement limits to reflect the current number of exempt aircraft in operation?',\n",
    "12 : 'Any additional comments on our proposal for Stansted’s movement limit?',\n",
    "13 : 'How strongly do you agree or disagree with our proposals to encourage the use of quieter aircraft at Heathrow?',\n",
    "14 : 'Any additional comments on how you feel noise quotas can be set in order to encourage the use of quieter aircraft at Heathrow?',\n",
    "15 : 'How strongly do you agree or disagree with our proposals to encourage the use of quieter aircraft at Gatwick?',\n",
    "16 : 'Any additional comments on how you feel noise quotas can best be set in order to encourage the use of quieter aircraft at Gatwick?',\n",
    "17 : 'How strongly do you agree or disagree with our proposals to encourage the use of quieter aircraft at Stansted?',\n",
    "18 : 'Any additional comments on how you feel noise quotas can best be set in order to encourage the use of quieter aircraft at Stansted?',\n",
    "19 : 'Q10 Any further views on our proposals, or their potential impact on governments ability to fulfil requirements of the Public Sector Equality Duty.',\n",
    "20 : 'What additional evidence do you have on the expected costs and benefits of the policy options outlined in sections 5 and 6 of the IA.',\n",
    "21 : 'What additional evidence do you have on the assumptions to develop the unconstrained scenario and the policy scenarios outlined in section 7.1.2. In particular, any additional evidence on how airports would make use of the carryover and overrun flexibility and which flights would be affected when and airport hits either its movement or quota limit. Please email any attachments to night.flights@dft.gsi.gov.uk',\n",
    "22 : 'What additional evidence do you have on how airlines that have ordered new aircraft types (e.g. Airbus A320neo and Boeing 737 Max) plan on introducing these into their fleets, as outlined in section 7.1.4.',\n",
    "23 : 'What additional evidence do you have on airline responses to a reduction in night flights regarding flight cancellations and rescheduling, and how passengers might respond to these changes, as outlined in sections 6.2.6 and 7.3.',\n",
    "24 : 'What additional evidence do you have on the likely amount of time needed for stakeholders to read and understand the regulations, as outlined in section 8.2.2.',\n",
    "25 : 'What additional evidence do you have on the monetised impact on business of the policy options outlined in section 10.',\n",
    "26 : 'What additional evidence do you have on the economic and wider impacts of changes to the night flights regime outlined in section 11.',\n",
    "27 : 'What additional evidence do you have on the impact of our policy options on competition, as outlined in section 11.1.',\n",
    "28 : 'What additional evidence do you have of the policy impacts on small and micro businesses, outlined in section 11.2.' ,\n",
    "29 : 'What additional evidence do you have on which policy option is best suited to achieve the environmental objective as outlined in section 12.'\n",
    "}\n",
    "question_list = list(question_dict.values())"
   ]
  },
  {
   "cell_type": "markdown",
   "metadata": {},
   "source": [
    "## NLP"
   ]
  },
  {
   "cell_type": "code",
   "execution_count": 7,
   "metadata": {
    "collapsed": false
   },
   "outputs": [],
   "source": [
    "# Splits the responses into sentences\n",
    "\n",
    "tokenizer = nltk.data.load('tokenizers/punkt/english.pickle')\n",
    "fp = open('/Users/tssuser/work/Night-Flight/data/sample.txt')\n",
    "data = fp.read()\n",
    "clean = '\\n-----\\n'.join(tokenizer.tokenize(data))\n",
    "split_list = clean.split('\\n-----\\n')"
   ]
  },
  {
   "cell_type": "markdown",
   "metadata": {},
   "source": [
    "## Question Text Finder"
   ]
  },
  {
   "cell_type": "code",
   "execution_count": 8,
   "metadata": {
    "collapsed": false
   },
   "outputs": [],
   "source": [
    "# Finds the sentences that most likely relate to questions and returns a list containing: [Index of the question, % Match, Start Index for the answer, End Index for the answer]\n",
    "\n",
    "matches1 = {}\n",
    "index_list = []\n",
    "\n",
    "for key in question_dict.keys():\n",
    "    \n",
    "    matches2 = {}\n",
    "    i = 0\n",
    "    \n",
    "    for sentence in split_list:\n",
    "        x = fuzz.ratio(question_dict[key],sentence) \n",
    "        matches2[i] = x\n",
    "        i += 1\n",
    "        \n",
    "    calc = max(matches2, key=matches2.get)\n",
    "    maximum = [calc,matches2[calc]]\n",
    "    start_index = max(matches2, key=matches2.get) +1\n",
    "    maximum.append(start_index)\n",
    "    matches1[key] = maximum\n",
    "\n",
    "matches3 = {}\n",
    "    \n",
    "for key, value in matches1.items():\n",
    "    if value[1] >= 80:\n",
    "        matches3[key] = matches1[key]\n",
    "        index_list.append(matches1[key][0])\n",
    "    else:\n",
    "        pass\n",
    "\n",
    "index_list.pop(0)\n",
    "\n",
    "i2 = 0\n",
    "\n",
    "for key, value in matches3.items():\n",
    "    try:\n",
    "        value.append(index_list[i2] - 1)        \n",
    "        i2 +=1\n",
    "    except IndexError:\n",
    "        value.append(len(split_list) - 1)\n",
    "    "
   ]
  },
  {
   "cell_type": "markdown",
   "metadata": {
    "collapsed": false
   },
   "source": [
    "## Splitting the Response into Questions"
   ]
  },
  {
   "cell_type": "code",
   "execution_count": 9,
   "metadata": {
    "collapsed": false
   },
   "outputs": [],
   "source": [
    "responses = {}\n",
    "\n",
    "for key, value in matches3.items():\n",
    "    \n",
    "    i = value[2]\n",
    "    data = []\n",
    "    \n",
    "    while i <= value[3]:\n",
    "        data.append(split_list[i])\n",
    "        i+=1\n",
    "    \n",
    "    responses[key] = data"
   ]
  },
  {
   "cell_type": "code",
   "execution_count": null,
   "metadata": {
    "collapsed": false
   },
   "outputs": [],
   "source": []
  },
  {
   "cell_type": "code",
   "execution_count": null,
   "metadata": {
    "collapsed": true
   },
   "outputs": [],
   "source": []
  }
 ],
 "metadata": {
  "anaconda-cloud": {},
  "kernelspec": {
   "display_name": "Python [default]",
   "language": "python",
   "name": "python3"
  },
  "language_info": {
   "codemirror_mode": {
    "name": "ipython",
    "version": 3
   },
   "file_extension": ".py",
   "mimetype": "text/x-python",
   "name": "python",
   "nbconvert_exporter": "python",
   "pygments_lexer": "ipython3",
   "version": "3.5.2"
  }
 },
 "nbformat": 4,
 "nbformat_minor": 1
}
