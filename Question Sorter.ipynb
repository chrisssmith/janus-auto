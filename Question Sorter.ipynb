{
 "cells": [
  {
   "cell_type": "markdown",
   "metadata": {},
   "source": [
    "## Imports"
   ]
  },
  {
   "cell_type": "code",
   "execution_count": 1,
   "metadata": {
    "collapsed": false
   },
   "outputs": [
    {
     "name": "stderr",
     "output_type": "stream",
     "text": [
      "/Users/tssuser/anaconda/lib/python3.5/site-packages/fuzzywuzzy/fuzz.py:35: UserWarning: Using slow pure-python SequenceMatcher. Install python-Levenshtein to remove this warning\n",
      "  warnings.warn('Using slow pure-python SequenceMatcher. Install python-Levenshtein to remove this warning')\n"
     ]
    }
   ],
   "source": [
    "import nltk.data\n",
    "from fuzzywuzzy import fuzz"
   ]
  },
  {
   "cell_type": "code",
   "execution_count": 2,
   "metadata": {
    "collapsed": false
   },
   "outputs": [
    {
     "data": {
      "text/html": [
       "<style>.container { width:100% !important; }</style>"
      ],
      "text/plain": [
       "<IPython.core.display.HTML object>"
      ]
     },
     "metadata": {},
     "output_type": "display_data"
    }
   ],
   "source": [
    "from IPython.core.display import display, HTML\n",
    "display(HTML(\"<style>.container { width:100% !important; }</style>\"))"
   ]
  },
  {
   "cell_type": "markdown",
   "metadata": {},
   "source": [
    "## Questions"
   ]
  },
  {
   "cell_type": "code",
   "execution_count": 3,
   "metadata": {
    "collapsed": false
   },
   "outputs": [],
   "source": [
    "question_dict = {\n",
    "0 : 'How strongly do you agree or disagree with our proposed environmental objective for the next regime?',\n",
    "1 : 'Any additional comments on our proposed environmental objective for the next regime?',\n",
    "2 : 'How strongly do you agree or disagree with our proposal for the length of the next regime?',\n",
    "3 : 'Any additional comments on our proposal for the length of the regime?',\n",
    "4 : 'How strongly do you agree or disagree with our proposal to introduce a new QC/0.125 category for aircraft between 81 and 83.9 EPNdB?',\n",
    "5 : 'How strongly do you agree or disagree with our proposal for all aircraft quieter than this to remain QC/0 but count towards the airports movement limit?',\n",
    "6 : 'Any additional comments on our proposals for the Quota Count System?',\n",
    "7 : 'How strongly do you agree or disagree with the proposal for movement limits to remain unchanged at Heathrow?',\n",
    "8 : 'Any additional comments on our proposal for Heathrow movement limits?',\n",
    "9 : 'How strongly do you agree or disagree with the proposal for movement limits to remain unchanged at Gatwick?',\n",
    "10 : 'Any additional comments on our proposal for Gatwick’s movement limit?',\n",
    "11 : 'How strongly do you agree or disagree with the proposal to raise Stansted’s movement limits to reflect the current number of exempt aircraft in operation?',\n",
    "12 : 'Any additional comments on our proposal for Stansted’s movement limit?',\n",
    "13 : 'How strongly do you agree or disagree with our proposals to encourage the use of quieter aircraft at Heathrow?',\n",
    "14 : 'Any additional comments on how you feel noise quotas can be set in order to encourage the use of quieter aircraft at Heathrow?',\n",
    "15 : 'How strongly do you agree or disagree with our proposals to encourage the use of quieter aircraft at Gatwick?',\n",
    "16 : 'Any additional comments on how you feel noise quotas can best be set in order to encourage the use of quieter aircraft at Gatwick?',\n",
    "17 : 'How strongly do you agree or disagree with our proposals to encourage the use of quieter aircraft at Stansted?',\n",
    "18 : 'Any additional comments on how you feel noise quotas can best be set in order to encourage the use of quieter aircraft at Stansted?',\n",
    "19 : 'Q10 Any further views on our proposals, or their potential impact on governments ability to fulfil requirements of the Public Sector Equality Duty.',\n",
    "20 : 'What additional evidence do you have on the expected costs and benefits of the policy options outlined in sections 5 and 6 of the IA.',\n",
    "21 : 'What additional evidence do you have on the assumptions to develop the unconstrained scenario and the policy scenarios outlined in section 7.1.2. In particular, any additional evidence on how airports would make use of the carryover and overrun flexibility and which flights would be affected when and airport hits either its movement or quota limit. Please email any attachments to night.flights@dft.gsi.gov.uk',\n",
    "22 : 'What additional evidence do you have on how airlines that have ordered new aircraft types (e.g. Airbus A320neo and Boeing 737 Max) plan on introducing these into their fleets, as outlined in section 7.1.4.',\n",
    "23 : 'What additional evidence do you have on airline responses to a reduction in night flights regarding flight cancellations and rescheduling, and how passengers might respond to these changes, as outlined in sections 6.2.6 and 7.3.',\n",
    "24 : 'What additional evidence do you have on the likely amount of time needed for stakeholders to read and understand the regulations, as outlined in section 8.2.2.',\n",
    "25 : 'What additional evidence do you have on the monetised impact on business of the policy options outlined in section 10.',\n",
    "26 : 'What additional evidence do you have on the economic and wider impacts of changes to the night flights regime outlined in section 11.',\n",
    "27 : 'What additional evidence do you have on the impact of our policy options on competition, as outlined in section 11.1.',\n",
    "28 : 'What additional evidence do you have of the policy impacts on small and micro businesses, outlined in section 11.2.' ,\n",
    "29 : 'What additional evidence do you have on which policy option is best suited to achieve the environmental objective as outlined in section 12.'\n",
    "}\n",
    "question_list = list(question_dict.values())"
   ]
  },
  {
   "cell_type": "markdown",
   "metadata": {},
   "source": [
    "## NLP"
   ]
  },
  {
   "cell_type": "code",
   "execution_count": 4,
   "metadata": {
    "collapsed": false
   },
   "outputs": [],
   "source": [
    "# Splits the responses into sentences\n",
    "\n",
    "tokenizer = nltk.data.load('tokenizers/punkt/english.pickle')\n",
    "fp = open('/Users/tssuser/work/Night-Flight/data/sample.txt')\n",
    "data = fp.read()\n",
    "clean = '\\n-----\\n'.join(tokenizer.tokenize(data))\n",
    "split_list = clean.split('\\n-----\\n')"
   ]
  },
  {
   "cell_type": "markdown",
   "metadata": {},
   "source": [
    "## Question Text Finder"
   ]
  },
  {
   "cell_type": "code",
   "execution_count": 8,
   "metadata": {
    "collapsed": false
   },
   "outputs": [],
   "source": [
    "# Finds the sentences that most likely relate to questions and returns a list containing: [Index of the question, % Match, Start Index for the answer, End Index for the answer]\n",
    "\n",
    "matches1 = {}\n",
    "index_list = []\n",
    "\n",
    "for key in question_dict.keys():\n",
    "    \n",
    "    matches2 = {}\n",
    "    i = 0\n",
    "    \n",
    "    for sentence in split_list:\n",
    "        x = fuzz.ratio(question_dict[key],sentence) \n",
    "        matches2[i] = x\n",
    "        i += 1\n",
    "        \n",
    "    calc = max(matches2, key=matches2.get)\n",
    "    maximum = [calc,matches2[calc]]\n",
    "    start_index = max(matches2, key=matches2.get) +1\n",
    "    maximum.append(start_index)\n",
    "    matches1[key] = maximum\n",
    "\n",
    "matches3 = {}\n",
    "    \n",
    "for key, value in matches1.items():\n",
    "    if value[1] >= 80:\n",
    "        matches3[key] = matches1[key]\n",
    "        index_list.append(matches1[key][0])\n",
    "    else:\n",
    "        pass\n",
    "\n",
    "index_list.pop(0)\n",
    "\n",
    "i2 = 0\n",
    "\n",
    "for key, value in matches3.items():\n",
    "    try:\n",
    "        value.append(index_list[i2] - 1)        \n",
    "        i2 +=1\n",
    "    except IndexError:\n",
    "        value.append(len(split_list) - 1)\n",
    "    "
   ]
  },
  {
   "cell_type": "code",
   "execution_count": 9,
   "metadata": {
    "collapsed": false
   },
   "outputs": [
    {
     "data": {
      "text/plain": [
       "{0: [25, 100, 26, 34],\n",
       " 1: [35, 92, 36, 49],\n",
       " 2: [50, 100, 51, 54],\n",
       " 3: [55, 91, 56, 60],\n",
       " 4: [61, 100, 62, 64],\n",
       " 5: [65, 100, 66, 70],\n",
       " 6: [71, 88, 72, 73],\n",
       " 7: [74, 100, 75, 77],\n",
       " 8: [78, 89, 79, 81],\n",
       " 9: [82, 100, 83, 98],\n",
       " 10: [99, 91, 100, 107],\n",
       " 11: [108, 100, 109, 110],\n",
       " 12: [111, 91, 112, 114],\n",
       " 13: [115, 100, 116, 118],\n",
       " 14: [119, 93, 120, 122],\n",
       " 15: [123, 100, 124, 145],\n",
       " 16: [146, 95, 147, 161],\n",
       " 17: [162, 100, 163, 165],\n",
       " 18: [166, 95, 167, 169],\n",
       " 19: [170, 91, 171, 183]}"
      ]
     },
     "execution_count": 9,
     "metadata": {},
     "output_type": "execute_result"
    }
   ],
   "source": [
    "matches3"
   ]
  },
  {
   "cell_type": "markdown",
   "metadata": {
    "collapsed": false
   },
   "source": [
    "## Splitting the Response into Questions"
   ]
  },
  {
   "cell_type": "code",
   "execution_count": 10,
   "metadata": {
    "collapsed": false
   },
   "outputs": [],
   "source": [
    "responses = {}\n",
    "\n",
    "for key, value in matches3.items():\n",
    "    \n",
    "    i = value[2]\n",
    "    data = []\n",
    "    \n",
    "    while i <= value[3]:\n",
    "        data.append(split_list[i])\n",
    "        i+=1\n",
    "    \n",
    "    responses[key] = data"
   ]
  },
  {
   "cell_type": "code",
   "execution_count": 11,
   "metadata": {
    "collapsed": false
   },
   "outputs": [
    {
     "data": {
      "text/plain": [
       "{0: ['(Encourage the use of quieter aircraft to limit or reduce the number of people significantly affected by aircraft noise at night, while maintaining the existing benefits of night flights.)',\n",
       "  '6.',\n",
       "  'We welcome the aim to encourage quieter aircraft.',\n",
       "  'However the aim should be to reduce the number of people significantly affected – delete the weasel words ‘to limit’ (which in DfT speak can mean to increase but not too much).',\n",
       "  '7.',\n",
       "  'It should be made clear that this objective can only be achieved by quieter aircraft not by merely introducing more concentrated flight paths.',\n",
       "  '8.',\n",
       "  'The words ‘existing benefits’ are discussed in paragraphs 9-13 below.',\n",
       "  'Q1b.'],\n",
       " 1: ['9.',\n",
       "  'Although the consultation refers to the existing benefits of night flights there is no attempt to quantify them.',\n",
       "  'It is stated in paragraph 1 that aviation ‘directly supports around 230,000 jobs … and contributes over £21 bn annually to UK GDP.’ but that is exaggerated and misleading:  it includes flights at all times of day; it also includes aircraft manufacture and aerospace which are irrelevant.',\n",
       "  '[1]     \\n\\n10.',\n",
       "  'The economic benefits of night flights at Gatwick are small.',\n",
       "  'There is little or no freight which requires night-time delivery.',\n",
       "  'Most of the night flights are to or from holiday destinations with no special justification on business grounds.',\n",
       "  'We understand the argument that night flights allow airlines to make more use of their aircraft with three rotations a day but that is a doubtful argument: it is not applied to most other commercial operations such as noisy factories or retail deliveries which have their working hours firmly controlled by planning conditions.',\n",
       "  '[2] \\n\\n11.',\n",
       "  'Any calculation of economic benefits is suspect unless it takes into account the hidden subsidy to airlines as a result of paying no fuel tax and no VAT, the benefit of which is about four times the revenue from air passenger duty.',\n",
       "  '12.',\n",
       "  'In so far as there are economic benefits, in some cases they could be achieved by better scheduling.',\n",
       "  'If aircraft to middle-distance destinations were scheduled to depart before 11.30 pm and scheduled to return after 6.00 am the benefits of three rotations could be achieved without flights at Gatwick during the night quota period.',\n",
       "  'Q2a.'],\n",
       " 2: ['13.',\n",
       "  'We are content with the proposed five years.',\n",
       "  'However a thorough analysis of the balance between the economic benefits and the health impacts / widespread disturbance of night flights should be made within the next two years, leading to a reduction in both the noise and number quotas.',\n",
       "  'Q2b.'],\n",
       " 3: ['14.',\n",
       "  'We are shocked that there has been no fundamental review of the night flight regime since 2006.',\n",
       "  'Thus the opportunity for environmental improvements has been lost.',\n",
       "  'Until 2012 there was a progressive year-by-year reduction in the level of noise permitted at night at Gatwick.',\n",
       "  'A clear indication that this progressive reduction would continue was given in a Ministerial Statement by the then Aviation Minister:  “The government will take into account the freeze in quota limits during this extension period when setting the next regime and expects airlines to continue to improve their environmental performance in the interim.”[3]\\n\\nQ3a.'],\n",
       " 4: ['15.', 'We are content with this proposal.', 'Q3b.'],\n",
       " 5: ['16.',\n",
       "  'We welcome this proposal.',\n",
       "  'There are very few such aircraft at Gatwick at present but as the consultation paper indicates a large number are on order.',\n",
       "  'Including them in the movement quota will reassure the public that the system is comprehensive; counting them as QC/0 will encourage investment in the least noisy aircraft.',\n",
       "  'Q3c.'],\n",
       " 6: ['17.', 'No\\n\\nQ4a.'],\n",
       " 7: ['18.', 'No comment.', 'Q4b.'],\n",
       " 8: ['19.', 'No.', 'Q5a.'],\n",
       " 9: ['20.',\n",
       "  'We strongly disagree.',\n",
       "  'They should be reduced.',\n",
       "  'As shown above, the economic justification for them is weak.',\n",
       "  'At the very least the aim should be to achieve a steady year-by-year reduction.',\n",
       "  'We support the call by Stop Stansted Expansion for the Government to announce that all night flights will be phased out by 2030.',\n",
       "  '21.',\n",
       "  'The winter movements quota is not fully used.',\n",
       "  'Paragraph 2.19 of the consultation paper says: ‘There is however still capacity in the winter period and given the constraints on airport capacity in the south east, the Government does not think it appropriate to constrain this further’.',\n",
       "  'That is alarming, inaccurate and silly.',\n",
       "  'Alarming because it indicates that the Government is prepared to accept a 60% increase in the number of night flights in winter.',\n",
       "  'Inaccurate because with Stansted and Luton operating at little more than half capacity there are no real constraints on airport capacity.',\n",
       "  'And silly because it is unlikely that any airline would want extra winter night-time slots when none are available in summer.',\n",
       "  '22.',\n",
       "  'Instead, as a minimum, the winter movements quota of 3,250 movements should be reduced to match the actual usage in the past five years of under 2,000.',\n",
       "  'Q5b.'],\n",
       " 10: ['23.',\n",
       "  'Many of our members feel strongly that there should be a total ban on all night flights.',\n",
       "  'There is growing evidence of the adverse effects on health of aircraft noise at night.',\n",
       "  '[4]  Heathrow is to have a total ban so why, it is said, should the same not apply to Gatwick and indeed other airports (although to the extent that a new runway is the price of a night flight ban that is not a price that GACC would be prepared to pay).',\n",
       "  'Nevertheless the widespread demand for a total ban illustrates the strong hatred of all night flights.',\n",
       "  '24.',\n",
       "  'Indeed it is anger at the failure to cut the number of night flights which has led to the request that a proper assessment of the economic benefits is made, followed within two years by a reduction in the movements and noise quotas.',\n",
       "  'Q6a.'],\n",
       " 11: ['25.', 'No comment\\n\\nQ6b.'],\n",
       " 12: ['26.', 'No.', 'Q7a.'],\n",
       " 13: ['27.', 'No comment.', 'Q7b.'],\n",
       " 14: ['28.', 'No.', 'Q8a.'],\n",
       " 15: ['29.',\n",
       "  'We support the aim to reduce the noise quotas to match existing use.',\n",
       "  'This is a change which GACC urged in 2012 and in 2014 and we are delighted that it is at last being implemented – at least for the summer quota.',\n",
       "  'It removes the potential for a large increase in noise at night which would be unacceptable.',\n",
       "  'Having a large surplus of noise points has meant that the noise quotas have been totally ineffective in their aim to encourage quieter aircraft.',\n",
       "  'The proposal to reduce the summer noise quota to 4870, which is slightly less than the actual use in the past three years, would fulfil this aim.',\n",
       "  '30.',\n",
       "  'We are amazed, however, that the new noise quota for the winter is proposed at 1,655 which almost double the actual use in two of the past three years.',\n",
       "  'That would negate the aim of setting the limits to match existing use, and would mean that the noise quota would be totally ineffective and would provide no incentive for the use of quieter aircraft.',\n",
       "  'The new winter noise quota should be set at around 900.',\n",
       "  '31.',\n",
       "  'We also strongly support the suggestion in paragraph 3.25 that the noise quotas may be reduced by 5% a year so as to be 20% lower by 2022.',\n",
       "  'That would represent a big improvement in the situation at Gatwick, especially for the communities close to the airport which suffer the worst noise.',\n",
       "  'It would put pressure on airlines to buy and to operate quieter aircraft.',\n",
       "  'In the long run this type of measure is what encourages manufacturers to design quieter aircraft.',\n",
       "  '32.',\n",
       "  'We are, however, worried that this is only described as ‘hypothetical’ and that it is not included in the summary of measures being proposed.',\n",
       "  'Indeed in paragraph 4.6 it is stated that: ‘we would only adopt a reduction in noise quota if evidence suggests this would act as a realistic incentive for airports and airlines to use quieter aircraft rather than to penalise them with unrealistic targets.’  If this were to mean only reducing the noise quotas after the airlines had bought quieter aircraft it would provide no incentive.',\n",
       "  '33.',\n",
       "  'We trust that the Department will resist lobbying from the aviation industry to water down this proposal.',\n",
       "  'Only if the noise quotas actually put pressure on airlines to buy and operate quieter aircraft will they be beneficial:  as Lewis Carrol said; ‘Medicine has to taste nasty!’   We therefore hope that this proposal can be up-graded to a definite policy when the Government announce their decisions.',\n",
       "  'Q8b.'],\n",
       " 16: ['34.',\n",
       "  'We are appalled at the suggestion in the consultation paper (paragraph 1.38) that noise at night only affects some 4,300 people at Gatwick (the number within the 48 Leq.night contour).',\n",
       "  'We are glad that the consultation uses the 48 Leq.night measurement rather than the discredited 57 leq, but it still measures the average noise which is almost meaningless at night.',\n",
       "  '35.',\n",
       "  'Some 50,000 people live in the northern part of Crawley and 20,000 in Horley, and many of them are affected by ground noise, especially the roar at start of roll and the use of reverse thrust.',\n",
       "  'It is also our experience that complaints about night flights come from a far wider area, up to twenty miles around the airport - because of the low background noise in rural areas.',\n",
       "  'Indeed the table in Appendix G paragraph G5 shows that the footprint of an A320 approaching from the east creates over 60dB for 20,000 people.',\n",
       "  'That is above the WHO health recommendation.',\n",
       "  '36.',\n",
       "  'A recent research study for GACC carried out by the Dutch research agency To70 found that: ‘The percentage of annoyed residents is likely to be higher in areas with low ambient noise than in high ambient noise areas.',\n",
       "  'It can be misleading to compare noise annoyance between different airports, when these local differences are not taken into account.',\n",
       "  'Hence, the local difference between ambient noise levels should always be taken into account when calculating the annoyance.’[5]\\n\\n37.',\n",
       "  'Another factor is the increase in traffic on local roads at night time generated by the flights during antisocial hours.',\n",
       "  'All the local roads to and from the airport are busy through the night and this must affect the sleep of people living near those roads, even if their homes are not overflown.',\n",
       "  'Q9a.'],\n",
       " 17: ['38.', 'No comment.', 'Q9b.'],\n",
       " 18: ['39.', 'No.', 'Q10.'],\n",
       " 19: ['40.',\n",
       "  'We have no comments on the Public Sector Equality Duty but do have the following further views.',\n",
       "  '41.',\n",
       "  'We are concerned at the suggestion in paragraphs 3.3 – 3.5 that the present controls on night flights by the DfT may be replaced by ‘bespoke’ controls imposed locally, possibly through the planning system.',\n",
       "  'The planning authority for Gatwick is Crawley Borough which benefits substantially from employment at Gatwick whereas other nearby councils suffer worse noise.',\n",
       "  'Any new system should involve all the councils around the airport.',\n",
       "  '42.',\n",
       "  'Paragraphs 2.28 – 2.32 in the consultation paper refer to land use planning.',\n",
       "  'They are largely meaningless unless local planning authorities can have an assurance that there will be no change in flight paths over the 50-100 year life-span of new houses, schools or hospitals.',\n",
       "  '43.',\n",
       "  'We would wish to see a longer night quota period.',\n",
       "  'Six and a half hours is too short for anyone to get a good night’s sleep - even if they go to sleep on the dot of 11.30 pm and are not woken up by the bunching of early arrivals and early departures before 6.00 am.',\n",
       "  'The World Health Organisation (WHO)’s Guidelines on Community Noise suggest that night should be defined as 11.00 pm to 7.00 am.']}"
      ]
     },
     "execution_count": 11,
     "metadata": {},
     "output_type": "execute_result"
    }
   ],
   "source": [
    "responses"
   ]
  },
  {
   "cell_type": "code",
   "execution_count": null,
   "metadata": {
    "collapsed": true
   },
   "outputs": [],
   "source": []
  }
 ],
 "metadata": {
  "anaconda-cloud": {},
  "kernelspec": {
   "display_name": "Python [default]",
   "language": "python",
   "name": "python3"
  },
  "language_info": {
   "codemirror_mode": {
    "name": "ipython",
    "version": 3
   },
   "file_extension": ".py",
   "mimetype": "text/x-python",
   "name": "python",
   "nbconvert_exporter": "python",
   "pygments_lexer": "ipython3",
   "version": "3.5.2"
  }
 },
 "nbformat": 4,
 "nbformat_minor": 1
}
